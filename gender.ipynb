{
 "cells": [
  {
   "cell_type": "code",
   "execution_count": 3,
   "id": "3e2c92aa",
   "metadata": {},
   "outputs": [
    {
     "name": "stderr",
     "output_type": "stream",
     "text": [
      "C:\\Users\\sumit\\anaconda3\\lib\\site-packages\\numpy\\_distributor_init.py:32: UserWarning: loaded more than 1 DLL from .libs:\n",
      "C:\\Users\\sumit\\anaconda3\\lib\\site-packages\\numpy\\.libs\\libopenblas.PYQHXLVVQ7VESDPUVUADXEVJOBGHJPAY.gfortran-win_amd64.dll\n",
      "C:\\Users\\sumit\\anaconda3\\lib\\site-packages\\numpy\\.libs\\libopenblas.XWYDX2IKJW2NMTWSFYNGFUWKQU3LYTCZ.gfortran-win_amd64.dll\n",
      "  stacklevel=1)\n",
      "C:\\Users\\sumit\\anaconda3\\lib\\site-packages\\pydub\\utils.py:170: RuntimeWarning: Couldn't find ffmpeg or avconv - defaulting to ffmpeg, but may not work\n",
      "  warn(\"Couldn't find ffmpeg or avconv - defaulting to ffmpeg, but may not work\", RuntimeWarning)\n"
     ]
    },
    {
     "ename": "ImportError",
     "evalue": "cannot import name 'audioFeatureExtraction' from 'pyAudioAnalysis' (C:\\Users\\sumit\\anaconda3\\lib\\site-packages\\pyAudioAnalysis\\__init__.py)",
     "output_type": "error",
     "traceback": [
      "\u001b[1;31m---------------------------------------------------------------------------\u001b[0m",
      "\u001b[1;31mImportError\u001b[0m                               Traceback (most recent call last)",
      "\u001b[1;32m<ipython-input-3-4d08cd04bc34>\u001b[0m in \u001b[0;36m<module>\u001b[1;34m\u001b[0m\n\u001b[1;32m----> 1\u001b[1;33m \u001b[1;32mfrom\u001b[0m \u001b[0mpyAudioAnalysis\u001b[0m \u001b[1;32mimport\u001b[0m \u001b[0maudioBasicIO\u001b[0m\u001b[1;33m,\u001b[0m \u001b[0maudioFeatureExtraction\u001b[0m\u001b[1;33m,\u001b[0m \u001b[0maudioTrainTest\u001b[0m\u001b[1;33m\u001b[0m\u001b[1;33m\u001b[0m\u001b[0m\n\u001b[0m\u001b[0;32m      2\u001b[0m \u001b[1;32mimport\u001b[0m \u001b[0mnumpy\u001b[0m \u001b[1;32mas\u001b[0m \u001b[0mnp\u001b[0m\u001b[1;33m\u001b[0m\u001b[1;33m\u001b[0m\u001b[0m\n\u001b[0;32m      3\u001b[0m \u001b[1;33m\u001b[0m\u001b[0m\n\u001b[0;32m      4\u001b[0m \u001b[1;32mdef\u001b[0m \u001b[0mextract_features\u001b[0m\u001b[1;33m(\u001b[0m\u001b[0mfile_path\u001b[0m\u001b[1;33m)\u001b[0m\u001b[1;33m:\u001b[0m\u001b[1;33m\u001b[0m\u001b[1;33m\u001b[0m\u001b[0m\n\u001b[0;32m      5\u001b[0m     \u001b[1;33m[\u001b[0m\u001b[0mFs\u001b[0m\u001b[1;33m,\u001b[0m \u001b[0mx\u001b[0m\u001b[1;33m]\u001b[0m \u001b[1;33m=\u001b[0m \u001b[0maudioBasicIO\u001b[0m\u001b[1;33m.\u001b[0m\u001b[0mread_audio_file\u001b[0m\u001b[1;33m(\u001b[0m\u001b[0mfile_path\u001b[0m\u001b[1;33m)\u001b[0m\u001b[1;33m\u001b[0m\u001b[1;33m\u001b[0m\u001b[0m\n",
      "\u001b[1;31mImportError\u001b[0m: cannot import name 'audioFeatureExtraction' from 'pyAudioAnalysis' (C:\\Users\\sumit\\anaconda3\\lib\\site-packages\\pyAudioAnalysis\\__init__.py)"
     ]
    }
   ],
   "source": [
    "from pyAudioAnalysis import audioBasicIO, audioFeatureExtraction, audioTrainTest\n",
    "import numpy as np\n",
    "\n",
    "def extract_features(file_path):\n",
    "    [Fs, x] = audioBasicIO.read_audio_file(file_path)\n",
    "    F, f_names = audioFeatureExtraction.stFeatureExtraction(x, Fs, 0.050 * Fs, 0.025 * Fs)\n",
    "    return F\n",
    "\n",
    "def train_model():\n",
    "    male_files = [\"data/recorded_speech.wav\", \"recorded_speech.wav\", \"data/recorded_speech.wav\"]  # Replace with actual male file paths\n",
    "    female_files = [\"data/arasa 11.wav\", \"data/arasa 12.wav\", \"data/arasa 13.wav\"]  # Replace with actual female file paths\n",
    "\n",
    "    male_features = [extract_features(file) for file in male_files]\n",
    "    female_features = [extract_features(file) for file in female_files]\n",
    "\n",
    "    # Combine features and labels\n",
    "    features = np.vstack((male_features, female_features))\n",
    "    labels = np.concatenate((np.zeros(len(male_features)), np.ones(len(female_features))))\n",
    "\n",
    "    # Train the model\n",
    "    audioTrainTest.featureAndTrain(features, labels)\n",
    "\n",
    "def classify_gender(test_file):\n",
    "    test_features = extract_features(test_file)\n",
    "    result, _ = audioTrainTest.fileClassification(test_file, \"svm\")\n",
    "    \n",
    "    gender = \"male\" if result == 0 else \"female\"\n",
    "    print(f\"Predicted gender: {gender}\")\n",
    "\n",
    "# Train the model (Run this part only once with your training data)\n",
    "# train_model()\n",
    "\n",
    "# Test the model with a new WAV file\n",
    "test_file_path = \"recorded_speech.wav\"  # Replace with the path to the test WAV file\n",
    "classify_gender(test_file_path)\n"
   ]
  },
  {
   "cell_type": "code",
   "execution_count": 1,
   "id": "08ddb8e1",
   "metadata": {},
   "outputs": [
    {
     "ename": "ModuleNotFoundError",
     "evalue": "No module named 'deepspectrum'",
     "output_type": "error",
     "traceback": [
      "\u001b[1;31m---------------------------------------------------------------------------\u001b[0m",
      "\u001b[1;31mModuleNotFoundError\u001b[0m                       Traceback (most recent call last)",
      "Cell \u001b[1;32mIn[1], line 1\u001b[0m\n\u001b[1;32m----> 1\u001b[0m \u001b[38;5;28;01mimport\u001b[39;00m \u001b[38;5;21;01mdeepspectrum\u001b[39;00m \u001b[38;5;28;01mas\u001b[39;00m \u001b[38;5;21;01mds\u001b[39;00m\n\u001b[0;32m      2\u001b[0m \u001b[38;5;28;01mfrom\u001b[39;00m \u001b[38;5;21;01mpydub\u001b[39;00m \u001b[38;5;28;01mimport\u001b[39;00m AudioSegment\n\u001b[0;32m      3\u001b[0m \u001b[38;5;28;01mimport\u001b[39;00m \u001b[38;5;21;01mnumpy\u001b[39;00m \u001b[38;5;28;01mas\u001b[39;00m \u001b[38;5;21;01mnp\u001b[39;00m\n",
      "\u001b[1;31mModuleNotFoundError\u001b[0m: No module named 'deepspectrum'"
     ]
    }
   ],
   "source": [
    "import deepspectrum as ds\n",
    "from pydub import AudioSegment\n",
    "import numpy as np\n",
    "\n",
    "def preprocess_audio(file_path):\n",
    "    # Load the audio file\n",
    "    audio = AudioSegment.from_wav(file_path)\n",
    "\n",
    "    # Convert stereo to mono\n",
    "    audio = audio.set_channels(1)\n",
    "\n",
    "    # Convert to a numpy array\n",
    "    samples = np.array(audio.get_array_of_samples())\n",
    "\n",
    "    # Normalize audio data\n",
    "    normalized_samples = ds.utils.normalize(samples)\n",
    "\n",
    "    # Resample to 16 kHz\n",
    "    resampled_samples = ds.utils.resample(normalized_samples, audio.frame_rate, 16000)\n",
    "\n",
    "    return resampled_samples\n",
    "\n",
    "def predict_gender(audio_samples):\n",
    "    # Load the pre-trained gender identification model\n",
    "    model = ds.models.GenderModel()\n",
    "\n",
    "    # Predict the gender\n",
    "    predictions = model.predict(audio_samples)\n",
    "\n",
    "    # Get the predicted gender label\n",
    "    predicted_gender = \"Male\" if predictions[0] > 0.5 else \"Female\"\n",
    "\n",
    "    return predicted_gender\n",
    "\n",
    "def main():\n",
    "    # Replace 'your_audio_file.wav' with the path to your WAV file\n",
    "    audio_file_path = 'recorded_speech.wav'\n",
    "\n",
    "    # Preprocess the audio file\n",
    "    audio_samples = preprocess_audio(audio_file_path)\n",
    "\n",
    "    # Predict the gender\n",
    "    gender_prediction = predict_gender(audio_samples)\n",
    "\n",
    "    print(f\"Predicted gender: {gender_prediction}\")\n",
    "\n",
    "if __name__ == \"__main__\":\n",
    "    main()\n"
   ]
  },
  {
   "cell_type": "code",
   "execution_count": 2,
   "id": "b59af273",
   "metadata": {},
   "outputs": [
    {
     "name": "stdout",
     "output_type": "stream",
     "text": [
      "Requirement already satisfied: pydub in c:\\users\\91734\\anaconda3\\lib\\site-packages (0.25.1)\n",
      "Collecting pygender\n",
      "  Downloading pygender-0.0.6.tar.gz (365 kB)\n",
      "     -------------------------------------- 365.2/365.2 kB 1.7 MB/s eta 0:00:00\n",
      "  Preparing metadata (setup.py): started\n",
      "  Preparing metadata (setup.py): finished with status 'done'\n",
      "Building wheels for collected packages: pygender\n",
      "  Building wheel for pygender (setup.py): started\n",
      "  Building wheel for pygender (setup.py): finished with status 'error'\n",
      "  Running setup.py clean for pygender\n",
      "Failed to build pygender\n",
      "Installing collected packages: pygender\n",
      "  Running setup.py install for pygender: started\n",
      "  Running setup.py install for pygender: finished with status 'error'\n"
     ]
    },
    {
     "name": "stderr",
     "output_type": "stream",
     "text": [
      "WARNING: Ignoring invalid distribution -cipy (c:\\users\\91734\\anaconda3\\lib\\site-packages)\n",
      "WARNING: Ignoring invalid distribution -atplotlib (c:\\users\\91734\\anaconda3\\lib\\site-packages)\n",
      "WARNING: Ignoring invalid distribution -cipy (c:\\users\\91734\\anaconda3\\lib\\site-packages)\n",
      "WARNING: Ignoring invalid distribution -atplotlib (c:\\users\\91734\\anaconda3\\lib\\site-packages)\n",
      "  error: subprocess-exited-with-error\n",
      "  \n",
      "  python setup.py bdist_wheel did not run successfully.\n",
      "  exit code: 1\n",
      "  \n",
      "  [5 lines of output]\n",
      "  running bdist_wheel\n",
      "  running build\n",
      "  running build_ext\n",
      "  building 'pygender' extension\n",
      "  error: Microsoft Visual C++ 14.0 or greater is required. Get it with \"Microsoft C++ Build Tools\": https://visualstudio.microsoft.com/visual-cpp-build-tools/\n",
      "  [end of output]\n",
      "  \n",
      "  note: This error originates from a subprocess, and is likely not a problem with pip.\n",
      "  ERROR: Failed building wheel for pygender\n",
      "WARNING: Ignoring invalid distribution -cipy (c:\\users\\91734\\anaconda3\\lib\\site-packages)\n",
      "WARNING: Ignoring invalid distribution -atplotlib (c:\\users\\91734\\anaconda3\\lib\\site-packages)\n",
      "  error: subprocess-exited-with-error\n",
      "  \n",
      "  Running setup.py install for pygender did not run successfully.\n",
      "  exit code: 1\n",
      "  \n",
      "  [7 lines of output]\n",
      "  running install\n",
      "  C:\\Users\\91734\\anaconda3\\lib\\site-packages\\setuptools\\command\\install.py:34: SetuptoolsDeprecationWarning: setup.py install is deprecated. Use build and pip and other standards-based tools.\n",
      "    warnings.warn(\n",
      "  running build\n",
      "  running build_ext\n",
      "  building 'pygender' extension\n",
      "  error: Microsoft Visual C++ 14.0 or greater is required. Get it with \"Microsoft C++ Build Tools\": https://visualstudio.microsoft.com/visual-cpp-build-tools/\n",
      "  [end of output]\n",
      "  \n",
      "  note: This error originates from a subprocess, and is likely not a problem with pip.\n",
      "error: legacy-install-failure\n",
      "\n",
      "Encountered error while trying to install package.\n",
      "\n",
      "pygender\n",
      "\n",
      "note: This is an issue with the package mentioned above, not pip.\n",
      "hint: See above for output from the failure.\n",
      "WARNING: Ignoring invalid distribution -cipy (c:\\users\\91734\\anaconda3\\lib\\site-packages)\n",
      "WARNING: Ignoring invalid distribution -atplotlib (c:\\users\\91734\\anaconda3\\lib\\site-packages)\n",
      "WARNING: Ignoring invalid distribution -cipy (c:\\users\\91734\\anaconda3\\lib\\site-packages)\n",
      "WARNING: Ignoring invalid distribution -atplotlib (c:\\users\\91734\\anaconda3\\lib\\site-packages)\n",
      "WARNING: Ignoring invalid distribution -cipy (c:\\users\\91734\\anaconda3\\lib\\site-packages)\n",
      "WARNING: Ignoring invalid distribution -atplotlib (c:\\users\\91734\\anaconda3\\lib\\site-packages)\n"
     ]
    }
   ],
   "source": [
    "!pip install pydub pygender"
   ]
  },
  {
   "cell_type": "code",
   "execution_count": 3,
   "id": "4793a11f",
   "metadata": {},
   "outputs": [
    {
     "name": "stderr",
     "output_type": "stream",
     "text": [
      "C:\\Users\\91734\\anaconda3\\lib\\site-packages\\pydub\\utils.py:170: RuntimeWarning: Couldn't find ffmpeg or avconv - defaulting to ffmpeg, but may not work\n",
      "  warn(\"Couldn't find ffmpeg or avconv - defaulting to ffmpeg, but may not work\", RuntimeWarning)\n"
     ]
    },
    {
     "ename": "ModuleNotFoundError",
     "evalue": "No module named 'pygender'",
     "output_type": "error",
     "traceback": [
      "\u001b[1;31m---------------------------------------------------------------------------\u001b[0m",
      "\u001b[1;31mModuleNotFoundError\u001b[0m                       Traceback (most recent call last)",
      "Cell \u001b[1;32mIn[3], line 2\u001b[0m\n\u001b[0;32m      1\u001b[0m \u001b[38;5;28;01mfrom\u001b[39;00m \u001b[38;5;21;01mpydub\u001b[39;00m \u001b[38;5;28;01mimport\u001b[39;00m AudioSegment\n\u001b[1;32m----> 2\u001b[0m \u001b[38;5;28;01mfrom\u001b[39;00m \u001b[38;5;21;01mpygender\u001b[39;00m \u001b[38;5;28;01mimport\u001b[39;00m Gender\n\u001b[0;32m      4\u001b[0m \u001b[38;5;28;01mdef\u001b[39;00m \u001b[38;5;21midentify_gender_from_audio\u001b[39m(file_path):\n\u001b[0;32m      5\u001b[0m     \u001b[38;5;66;03m# Load the audio file using pydub\u001b[39;00m\n\u001b[0;32m      6\u001b[0m     audio \u001b[38;5;241m=\u001b[39m AudioSegment\u001b[38;5;241m.\u001b[39mfrom_wav(file_path)\n",
      "\u001b[1;31mModuleNotFoundError\u001b[0m: No module named 'pygender'"
     ]
    }
   ],
   "source": [
    "from pydub import AudioSegment\n",
    "from pygender import Gender\n",
    "\n",
    "def identify_gender_from_audio(file_path):\n",
    "    # Load the audio file using pydub\n",
    "    audio = AudioSegment.from_wav(file_path)\n",
    "\n",
    "    # Create a Gender object\n",
    "    gender_detector = Gender()\n",
    "\n",
    "    # Identify gender\n",
    "    gender = gender_detector.detect_gender(file_path)\n",
    "\n",
    "    return gender\n",
    "\n",
    "if __name__ == \"__main__\":\n",
    "    wav_file_path = \"1.wav\"  # Replace with the path to your WAV file\n",
    "    detected_gender = identify_gender_from_audio(wav_file_path)\n",
    "\n",
    "    if detected_gender:\n",
    "        print(f\"Detected Gender: {detected_gender}\")\n",
    "    else:\n",
    "        print(\"Gender identification failed.\")\n"
   ]
  },
  {
   "cell_type": "code",
   "execution_count": null,
   "id": "265ef99a",
   "metadata": {},
   "outputs": [],
   "source": []
  }
 ],
 "metadata": {
  "kernelspec": {
   "display_name": "Python 3 (ipykernel)",
   "language": "python",
   "name": "python3"
  },
  "language_info": {
   "codemirror_mode": {
    "name": "ipython",
    "version": 3
   },
   "file_extension": ".py",
   "mimetype": "text/x-python",
   "name": "python",
   "nbconvert_exporter": "python",
   "pygments_lexer": "ipython3",
   "version": "3.10.9"
  }
 },
 "nbformat": 4,
 "nbformat_minor": 5
}
