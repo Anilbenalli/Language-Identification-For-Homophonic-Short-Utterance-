{
 "cells": [
  {
   "cell_type": "code",
   "execution_count": null,
   "id": "a21c7833",
   "metadata": {},
   "outputs": [],
   "source": [
    "import sounddevice as sd\n",
    "mics=sd.query_devices() \n",
    "for i in range(len(mics)): \n",
    "\tprint(mics[i])"
   ]
  },
  {
   "cell_type": "code",
   "execution_count": null,
   "id": "40d5967e",
   "metadata": {},
   "outputs": [],
   "source": [
    "import sounddevice as sd\n",
    "import numpy as np\n",
    "import scipy.io.wavfile as wav\n",
    "\n",
    "def record_audio(file_name, duration, samplerate):\n",
    "    print(\"Recording...\")\n",
    "    recording = sd.rec(int(duration * samplerate), samplerate=samplerate, channels=2, dtype='int16')\n",
    "    sd.wait()\n",
    "    print(\"Recording stopped.\")\n",
    "    wav.write(file_name, samplerate, recording)\n",
    "\n",
    "def convert_to_mono(input_file, output_file):\n",
    "    print(\"Converting to mono...\")\n",
    "    samplerate, data = wav.read(input_file)\n",
    "    if len(data.shape) == 2:\n",
    "        mono_data = np.mean(data, axis=1, dtype=data.dtype)\n",
    "        wav.write(output_file, samplerate, mono_data)\n",
    "    else:\n",
    "        print(\"Already mono channel.\")\n",
    "'''\n",
    "# Example usage:\n",
    "if __name__ == \"__main__\":\n",
    "    file_name = \"recording_stereo.wav\"\n",
    "    mono_file_name = \"recording_mono.wav\"\n",
    "    duration = 2  # in seconds\n",
    "    samplerate = 44100  # in Hz\n",
    "\n",
    "    record_audio(file_name, duration, samplerate)\n",
    "    convert_to_mono(file_name, mono_file_name)\n",
    "\n",
    "'''\n",
    "\n"
   ]
  },
  {
   "cell_type": "code",
   "execution_count": null,
   "id": "81158389",
   "metadata": {},
   "outputs": [],
   "source": [
    "import time\n",
    "for i in range(100):\n",
    "    duration = 2  # in seconds\n",
    "    samplerate = 44100  # in Hz\n",
    "    file_name=str(i)+\".wav\"\n",
    "    record_audio('arasa/'+file_name,duration, samplerate)\n",
    "    convert_to_mono('arasa/'+file_name, 'dataset/arasa/'+file_name)\n",
    "    time.sleep(1)\n",
    "    "
   ]
  },
  {
   "cell_type": "code",
   "execution_count": null,
   "id": "2a4a0ed9",
   "metadata": {},
   "outputs": [],
   "source": []
  }
 ],
 "metadata": {
  "kernelspec": {
   "display_name": "Python 3 (ipykernel)",
   "language": "python",
   "name": "python3"
  },
  "language_info": {
   "codemirror_mode": {
    "name": "ipython",
    "version": 3
   },
   "file_extension": ".py",
   "mimetype": "text/x-python",
   "name": "python",
   "nbconvert_exporter": "python",
   "pygments_lexer": "ipython3",
   "version": "3.7.6"
  }
 },
 "nbformat": 4,
 "nbformat_minor": 5
}
