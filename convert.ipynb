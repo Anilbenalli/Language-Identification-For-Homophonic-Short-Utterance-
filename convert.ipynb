{
 "cells": [
  {
   "cell_type": "code",
   "execution_count": 14,
   "id": "4cb20c9a",
   "metadata": {},
   "outputs": [],
   "source": [
    "from pydub import AudioSegment\n",
    "import os\n",
    "\n",
    "def convert_wav_to_mono(input_folder, output_folder):\n",
    "    # Iterate through each WAV file in the input folder\n",
    "    for file_name in os.listdir(input_folder):\n",
    "        if file_name.endswith(\".wav\"):\n",
    "            # Load the WAV file\n",
    "            audio = AudioSegment.from_wav(os.path.join(input_folder, file_name))\n",
    "           \n",
    "            # Convert stereo to mono\n",
    "            audio = audio.set_channels(1)\n",
    "           \n",
    "            # Output file path for the mono WAV file\n",
    "            output_path = os.path.join(output_folder, os.path.splitext(file_name)[0] + \"_mono.wav\")\n",
    "           \n",
    "            # Export the audio to mono WAV format\n",
    "            audio.export(output_path, format=\"wav\")\n",
    "\n",
    "# Replace 'input_folder' and 'output_folder' with your folder paths\n",
    "convert_wav_to_mono('data1/MULI', 'data2/MULI')"
   ]
  },
  {
   "cell_type": "code",
   "execution_count": null,
   "id": "764d37c9",
   "metadata": {},
   "outputs": [],
   "source": []
  }
 ],
 "metadata": {
  "kernelspec": {
   "display_name": "Python 3 (ipykernel)",
   "language": "python",
   "name": "python3"
  },
  "language_info": {
   "codemirror_mode": {
    "name": "ipython",
    "version": 3
   },
   "file_extension": ".py",
   "mimetype": "text/x-python",
   "name": "python",
   "nbconvert_exporter": "python",
   "pygments_lexer": "ipython3",
   "version": "3.7.6"
  }
 },
 "nbformat": 4,
 "nbformat_minor": 5
}
